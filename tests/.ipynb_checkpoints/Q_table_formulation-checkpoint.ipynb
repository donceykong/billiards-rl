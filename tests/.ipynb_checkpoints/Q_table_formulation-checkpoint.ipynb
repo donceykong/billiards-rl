{
 "cells": [
  {
   "cell_type": "code",
   "execution_count": 1,
   "id": "4ce25773",
   "metadata": {},
   "outputs": [],
   "source": [
    "import numpy as np\n",
    "from tqdm import tqdm"
   ]
  },
  {
   "cell_type": "code",
   "execution_count": 52,
   "id": "b453fdff",
   "metadata": {},
   "outputs": [],
   "source": [
    "class Q_DICT:\n",
    "    def __init__(self, cue_state_start, target_state_start, angle_start, power_start, reward):\n",
    "        cue_state_start=[0.00, 0.00], \n",
    "        target_state_start=[0.00, 0.00], \n",
    "        angle_start=0.00, \n",
    "        power_start=0.00, \n",
    "        reward=0.00\n",
    "        self.Q_dict = {f'{cue_state_start}, {target_state_start}, {angle_start}, {power_start}': reward}\n",
    "        \n",
    "    def init_q_dict(self, x_disc, y_disc, angles_disc, powers_disc):\n",
    "        x_max = 10\n",
    "        states_x = np.linspace(0, x_max, num = x_disc) # List from 0 to x_max, with x_discritized numbers\n",
    "\n",
    "        y_max = 10\n",
    "        states_y = np.linspace(0, y_max, num = y_disc) # List from 0 to y_max, with y_discritized numbers\n",
    "\n",
    "        angles = np.linspace(0, 360, num = angles_disc) # List from 0 to 360, with theta_disc numbers\n",
    "\n",
    "        max_power = 3600\n",
    "        powers = np.linspace(0, max_power, num = powers_disc) # List from 0 to max_power, with powers_disc numbers\n",
    "        print(powers)\n",
    "\n",
    "        print(f\"size dict list = {np.power(states_x.size*states_y.size, 2)}\\n\")\n",
    "\n",
    "        for s_cue_x in tqdm(states_x):\n",
    "            for s_cue_y in states_y:\n",
    "                for s_target_x in states_x:\n",
    "                    for s_target_y in states_y:\n",
    "                        for angle in angles:\n",
    "                            for power in powers:\n",
    "                                cue_state = [s_cue_x, s_cue_y]\n",
    "                                target_state = [s_target_x, s_target_y]\n",
    "                                self.Q_dict.update({f'{cue_state}, {target_state}, {angle}, {power}': 0.00})\n",
    "\n",
    "        print(len(self.Q_dict))\n",
    "\n",
    "    def update_q_dict(self, cue_state, target_state, angle, power, reward):\n",
    "        current_reward = self.get_q_val(cue_state, target_state, angle, power)\n",
    "        if current_reward is not None:\n",
    "            updated_reward = current_reward + reward\n",
    "        else:\n",
    "            updated_reward = reward       \n",
    "        self.Q_dict.update({f'{cue_state}, {target_state}, {angle}, {power}': updated_reward})     \n",
    "\n",
    "    def get_q_val(self, cue_state, target_state, angle, power):\n",
    "        state_action_pair = f'{cue_state}, {target_state}, {angle}, {power}'\n",
    "        if state_action_pair in self.Q_dict: \n",
    "            current_val = self.Q_dict[state_action_pair]\n",
    "        else:\n",
    "            current_val = None\n",
    "        return current_val"
   ]
  },
  {
   "cell_type": "markdown",
   "id": "dc36f17a",
   "metadata": {},
   "source": [
    "# Initialize the Q-table as a Python dict (May take a LONG Time)"
   ]
  },
  {
   "cell_type": "code",
   "execution_count": 3,
   "id": "23a51448",
   "metadata": {},
   "outputs": [
    {
     "data": {
      "text/plain": [
       "'\\nQ = Q_DICT(cue_state_start=[0.00, 0.00], \\n           target_state_start=[0.00, 0.00], \\n           angle_start=0.00, \\n           power_start=0.00, \\n           reward=0.00)\\n\\nQ.Q_dict = init_q_dict(x_disc=501, y_disc=501, angles_disc=361, powers_disc=5)\\n'"
      ]
     },
     "execution_count": 3,
     "metadata": {},
     "output_type": "execute_result"
    }
   ],
   "source": [
    "'''\n",
    "Q = Q_DICT(cue_state_start=[0.00, 0.00], \n",
    "           target_state_start=[0.00, 0.00], \n",
    "           angle_start=0.00, \n",
    "           power_start=0.00, \n",
    "           reward=0.00)\n",
    "\n",
    "Q.Q_dict = init_q_dict(x_disc=501, y_disc=501, angles_disc=361, powers_disc=5)\n",
    "'''"
   ]
  },
  {
   "cell_type": "markdown",
   "id": "0f1c8498",
   "metadata": {},
   "source": [
    "# Initialize Q-table with one element and update as we see states"
   ]
  },
  {
   "cell_type": "code",
   "execution_count": 53,
   "id": "a120415e",
   "metadata": {},
   "outputs": [
    {
     "name": "stdout",
     "output_type": "stream",
     "text": [
      "{'[0.0, 0.0], [0.0, 0.0], 0.0, 0.0': 0.0}\n"
     ]
    }
   ],
   "source": [
    "Q = Q_DICT()\n",
    "\n",
    "print(Q.Q_dict)"
   ]
  },
  {
   "cell_type": "code",
   "execution_count": 50,
   "id": "9c113f39",
   "metadata": {},
   "outputs": [
    {
     "name": "stdout",
     "output_type": "stream",
     "text": [
      "90.0\n",
      "{'[0.0, 0.0], [0.0, 0.0], 0.0, 0.0': 0.0, '[1.0, 0.0], [0.0, 1.0], 0.0, 0.0': 100.0}\n"
     ]
    }
   ],
   "source": [
    "cue_state = [1.0, 0.0]\n",
    "target_state = [0.0, 1.0]\n",
    "angle = 0.00\n",
    "power = 0.00\n",
    "reward = 10.00\n",
    "\n",
    "Q.update_q_dict(cue_state, target_state, angle, power, reward)\n",
    "\n",
    "print(Q.Q_dict)"
   ]
  },
  {
   "cell_type": "markdown",
   "id": "cd6e57aa",
   "metadata": {},
   "source": [
    "# Check Q-table (Q-dict) to see what the latest key is"
   ]
  },
  {
   "cell_type": "code",
   "execution_count": 42,
   "id": "cffba080",
   "metadata": {},
   "outputs": [
    {
     "name": "stdout",
     "output_type": "stream",
     "text": [
      "[1.0, 0.0], [0.0, 1.0], 0.0, 0.0\n"
     ]
    }
   ],
   "source": [
    "print(list(Q.Q_dict)[-1])"
   ]
  },
  {
   "cell_type": "markdown",
   "id": "99a81123",
   "metadata": {},
   "source": [
    "# Check to see what the Q-value is for a given key"
   ]
  },
  {
   "cell_type": "code",
   "execution_count": 51,
   "id": "e2ac4de6",
   "metadata": {},
   "outputs": [
    {
     "name": "stdout",
     "output_type": "stream",
     "text": [
      "100.0\n"
     ]
    }
   ],
   "source": [
    "# Check what reward is for a specific state-action pair:\n",
    "cue_state = [1.00, 0.00]\n",
    "target_state = [0.00, 1.00]\n",
    "angle = 0.00\n",
    "power = 0.00\n",
    "\n",
    "q_val = Q.get_q_val(cue_state, target_state, angle, power)\n",
    "print(q_val)"
   ]
  }
 ],
 "metadata": {
  "@webio": {
   "lastCommId": null,
   "lastKernelId": null
  },
  "kernelspec": {
   "display_name": "Python 3 (ipykernel)",
   "language": "python",
   "name": "python3"
  },
  "language_info": {
   "codemirror_mode": {
    "name": "ipython",
    "version": 3
   },
   "file_extension": ".py",
   "mimetype": "text/x-python",
   "name": "python",
   "nbconvert_exporter": "python",
   "pygments_lexer": "ipython3",
   "version": "3.9.12"
  }
 },
 "nbformat": 4,
 "nbformat_minor": 5
}
