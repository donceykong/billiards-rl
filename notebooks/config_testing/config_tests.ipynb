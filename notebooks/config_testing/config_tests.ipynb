{
 "cells": [
  {
   "cell_type": "code",
   "execution_count": 29,
   "metadata": {},
   "outputs": [],
   "source": [
    "from argparse import ArgumentParser\n",
    "import yaml\n",
    "from easydict import EasyDict as edict"
   ]
  },
  {
   "cell_type": "code",
   "execution_count": 22,
   "metadata": {},
   "outputs": [],
   "source": [
    "def load_yaml(file_name):\n",
    "    with open(file_name, 'r') as file:\n",
    "        try:\n",
    "            config = yaml.load(file, Loader=yaml.FullLoader)\n",
    "        except:\n",
    "            config = yaml.safe_load(file)\n",
    "    return config"
   ]
  },
  {
   "cell_type": "code",
   "execution_count": 35,
   "metadata": {},
   "outputs": [
    {
     "name": "stdout",
     "output_type": "stream",
     "text": [
      "{'theta_min': 0.0, 'theta_max': 360.0, 'theta_disc': 720, 'power_min': 0, 'power_max': 20000, 'power_disc': 41}\n",
      "0.0\n"
     ]
    }
   ],
   "source": [
    "configs = load_yaml(\"../../config/SA_space_config.yaml\")\n",
    "print(configs['action_params'])\n",
    "print(configs['action_params']['theta_min'])\n"
   ]
  }
 ],
 "metadata": {
  "kernelspec": {
   "display_name": "base",
   "language": "python",
   "name": "python3"
  },
  "language_info": {
   "codemirror_mode": {
    "name": "ipython",
    "version": 3
   },
   "file_extension": ".py",
   "mimetype": "text/x-python",
   "name": "python",
   "nbconvert_exporter": "python",
   "pygments_lexer": "ipython3",
   "version": "3.9.12"
  },
  "orig_nbformat": 4
 },
 "nbformat": 4,
 "nbformat_minor": 2
}
