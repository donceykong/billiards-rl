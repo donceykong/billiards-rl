{
 "cells": [
  {
   "attachments": {},
   "cell_type": "markdown",
   "id": "a0c88d46",
   "metadata": {},
   "source": [
    "# Now we will test an altering-size Q-dict\n",
    "\n",
    "## Lets first clarify how this is being approached: "
   ]
  },
  {
   "attachments": {},
   "cell_type": "markdown",
   "id": "95f02f38",
   "metadata": {},
   "source": [
    "### **1. Arrangement of object balls for a given state is does not matter**\n",
    "\n",
    "It is important to note that the object balls **do *not* have different values**. Therefore, the arrangment of them on the table does not matter for each unique object ball. They may as well all have the same color and number. For example if we have two object balls, objball_1 at [100,100] and objball_2 at [200,200], it has the same state uniqueness as objball_1 at [200,200] and objball_2 at [100,100].\n",
    "\n",
    "We can take advantage of this fact as it will reduce the number of unique states by a factor of the number of obj balls on the table. There are not different order permutations for the same set of objball states.\n",
    "\n",
    "### **2. Obj ball states will be ordered in a sequence to take advantage of not having arrangement uniquess**\n",
    "\n",
    "We need to have a consistent way to order the states so that a given arrangement is strung the same way. For instance, using the example above, we would be considering the order if we created the following nested array:\n",
    "\n",
    "> objball_1 = [100,100]\n",
    ">\n",
    "> objball_2 = [200,200]\n",
    ">\n",
    "> objballs = [objball_1, objball_1] = [ [100,100], [200,200] ]\n",
    "\n",
    "Since, if the two balls reversed states, we would then have the following nested array:\n",
    "\n",
    "> objball_1 = [200,200]\n",
    ">\n",
    "> objball_2 = [100,100]\n",
    ">\n",
    "> objballs = [objball_1, objball_1] = [ [200,200], [100,100] ]\n",
    "\n",
    "It is clear that these two instances of 'objballs' (the combined state of object balls) are not the same and they should be. To create a consistent ordering wrt obj ball position, it is necessary to point that ordering by distance to x-y origin would cause issues, as well as ordering by slope from origin - two seperate points can have the same slope and two points can also share the same distance to the origin. However, two *seperate* points ***cannot*** have the same slope and distance to the origin. If the have the same slope, they will lie on the same ray pointing to origin and if they have the same dist to origin, they will lie on the same circle with radius of that distance centered about the origin.\n",
    "\n",
    "Given this, we need to order the 2D states on a 1D line using one or more values that make them unique. Using Cartesean coordinates or cylindrical coordinates requires that the ordering must happen in sequence. We can order by distance from x-axis (using value of y) and then we can further order by distance from y-axis (using value of x)... right? Well, to be honest, *I am not sure* and would want to analyze this further. However, upon deciding how to do this, I came accross a special named ***Row- and column-major order***, which is equivalent to equivalent to ***lexicographic and colexicographic orders***, respectively.\n",
    "\n",
    "Using this, not only can we map the 2D object ball states with order on a 1D line, we can use this to decrease the memory size of the q-dict. Instead of using a string of 2D cartesean coordinates, we can use their 1D integer mapping. We can do this for the cue ball as well.\n",
    "\n",
    "### **3. Balls must \"snap\" to the nearest position discretization.**\n",
    "\n",
    "In order for discretization to actually help with training, the game must allow for balls to \"snap\" to nearest discrete positon on simulated billiards table. This means that start and end states for every ball will be within the states specific in the configuration parameters. This must happen in a sequence, so that the snapping to nearest discrete position does not let two balls overlap and create a collision. Furthermore, the sequence in which this happens must preserve state-transition dynamics - otherwise, the stochastic nature of snapping to discrete positions will likely not allow the Q-Learning process to capture long-horizon value. This can be done by snapping the first ball on the table until we get to the last one (the cue ball).\n",
    "\n",
    "### **4. Reducing memory size on each q-dict**\n",
    "\n",
    "This is something that has needed quite a lot of thought, since I wanted a way to store state-action Q-values in a way that is compact, fast, and can store a lot. Using Python dictionaries seemed like the way to go, though other data structure/storage options may work even better. \n",
    "\n",
    "As for Python dictionaries, it looks like they can run into hash-collisions after a certain size. Therefore, reducing the memory it takes to store this is imperitive. Here are the ways this is being approached:\n",
    "\n",
    "- #### **4.A Decreasing the string size written to a Q-dict**\n",
    "\n",
    "    - **2D -> 1D position mappings**:\n",
    "    \n",
    "        As mentioned above, we can use a mapping to go from 2D position arrays to 1D scalors. This will help with reducing the amount of integers listed in the string. However, this may not be effective alone, since the value of the 1D mapping may be very large. In order to decrease this number to less characters, we can then map the base-10 integer value to a larger base, such as hex.\n",
    "\n",
    "    - **Minimizing size of string for each q-dict entry**:\n",
    "\n",
    "        Initially values in the q-dicts were stored like:\n",
    "\n",
    "        > {f'{cueball_s}, {objballs_s}, {angle}, {power}': reward}\n",
    "\n",
    "        Unraveling above would look like:\n",
    "\n",
    "        > {'[5, 20], [ [50, 80], [90, 10], ..., [25, 100] ], 56.78, 10': 110.00}\n",
    "\n",
    "        After mapping 2D position values to 1D would look like:\n",
    "        \n",
    "        > {'876, [ 25, 98, ..., 1035 ], 56.78, 10': 110.00}\n",
    "\n",
    "        After mapping 1D position values to hex would look like:\n",
    "        \n",
    "        > {'36c, [ 19, 62, ..., 40b ], 56.78, 10': 110.00}\n",
    "\n",
    "        Now we can add a delimeter to denote cueball state, objball states, theta, and power.Let's use \"|\" to denote this. For each objball position in the objballs list, we can seperate them with a \",\" delimiter.\n",
    "\n",
    "        > {'36c|19,62,...,40b|56.78|10': 110.00}\n",
    "\n",
    "- #### **4.B Using a q-dict for each different size of object ball sets (0-15)**\n",
    "\n",
    "    One way to help preserve the size of each q-dict is to have 16 seperate dicts for each size set of object balls on the table, ranging from 0 to 15. Therefore, there will be 16 q-dicts in total and the size of the *obj_s_list* list will determine which q-dict will be used."
   ]
  },
  {
   "cell_type": "code",
   "execution_count": 53,
   "id": "b8549007",
   "metadata": {},
   "outputs": [
    {
     "name": "stdout",
     "output_type": "stream",
     "text": [
      "hex_val: 3945b\n",
      "dec_val: 234587\n"
     ]
    }
   ],
   "source": [
    "hex_val = hex(234587).lstrip(\"0x\")\n",
    "print(f\"hex_val: {hex_val}\")\n",
    "hex_val = f\"{hex_val}\"\n",
    "\n",
    "dec_val = int(hex_val, 16)\n",
    "print(f\"dec_val: {dec_val}\")"
   ]
  },
  {
   "attachments": {},
   "cell_type": "markdown",
   "id": "c24e360a",
   "metadata": {},
   "source": [
    "#### Converting 1D states, actions, and reward to q-string"
   ]
  },
  {
   "cell_type": "code",
   "execution_count": 147,
   "id": "06e29669",
   "metadata": {},
   "outputs": [
    {
     "name": "stdout",
     "output_type": "stream",
     "text": [
      "\n",
      "Hex conversion of Q-table item string:\n",
      "f5|1,3,9,d,e,f,1c,25,37,4c,51,57,62,64,40b|34.98|10000\n"
     ]
    }
   ],
   "source": [
    "# States will need to be mapped to 1D to get here\n",
    "cue_s = 245\n",
    "obj_s_list = [37, 98, 100, 55, 15, 14, 87, 9, 28, 81, 1, 3, 13, 76, 1035]\n",
    "obj_s_list.sort() # NEED TO SORT OBJ STATES\n",
    "angle = 34.98\n",
    "power = 10000\n",
    "\n",
    "cue_s_hex = hex(cue_s).lstrip(\"0x\")\n",
    "obj_s_list_hex = [hex(obj_state).lstrip('0x') for obj_state in obj_s_list]\n",
    "\n",
    "print(\"\\nHex conversion of Q-table item string:\")\n",
    "SA_pair = f\"{cue_s_hex}|\"\n",
    "for obj_s_hex in obj_s_list_hex:\n",
    "    SA_pair += obj_s_hex + \",\"\n",
    "SA_pair = SA_pair.rstrip(\",\") + f\"|{angle}|{power}\"\n",
    "\n",
    "print(SA_pair)"
   ]
  },
  {
   "attachments": {},
   "cell_type": "markdown",
   "id": "580f173f",
   "metadata": {},
   "source": [
    "#### Converting q-string back to decimal"
   ]
  },
  {
   "cell_type": "code",
   "execution_count": 128,
   "id": "0e899ce1",
   "metadata": {},
   "outputs": [
    {
     "name": "stdout",
     "output_type": "stream",
     "text": [
      "Splitting q-string:\n",
      " ['36c', '19,62,40b', '56.78', '10'] \n",
      "\n",
      "Hexidecimal string:\n",
      "cue_s: 36c, obj_states: 19,62,40b, angle: 56.78, power: 10\n",
      "\n",
      "Decimal String:\n",
      "cue_s: 876, obj_states: [25, 98, 1035], angle: 56.78, power: 10\n",
      "\n"
     ]
    }
   ],
   "source": [
    "q_values = '36c|19,62,40b|56.78|10'.split(\"|\")\n",
    "print(f\"Splitting q-string:\\n {q_values} \\n\")\n",
    "\n",
    "cue_s_hex = q_values[0]\n",
    "obj_s_list_hex = q_values[1]\n",
    "angle = q_values[2]\n",
    "power = q_values[3]\n",
    "print(f\"Hexidecimal string:\\ncue_s: {cue_s_hex}, obj_states: {obj_s_list_hex}, angle: {angle}, power: {power}\\n\")\n",
    "\n",
    "# Convert hex to decimal\n",
    "cue_s = int(q_values[0], 16)\n",
    "obj_s_list = [int(obj_state, 16) for obj_state in q_values[1].split(\",\")]\n",
    "angle = q_values[2]\n",
    "power = q_values[3]\n",
    "print(f\"Decimal String:\\ncue_s: {cue_s}, obj_states: {obj_s_list}, angle: {angle}, power: {power}\\n\")\n"
   ]
  },
  {
   "attachments": {},
   "cell_type": "markdown",
   "id": "de3dad9e",
   "metadata": {},
   "source": [
    "#### Test new methods for Q_TABLE class"
   ]
  },
  {
   "cell_type": "code",
   "execution_count": 2,
   "id": "c7ecf231",
   "metadata": {},
   "outputs": [],
   "source": [
    "import numpy as np"
   ]
  },
  {
   "cell_type": "code",
   "execution_count": 3,
   "id": "3225c8e1",
   "metadata": {},
   "outputs": [],
   "source": [
    "# Make a function to map 2D states to 1D\n",
    "# Will make use of NumPys nd arrays\n",
    "\n",
    "class MAPPER():\n",
    "    def __init__(self):\n",
    "        states_x_list = np.linspace(95, 1140, num = (1140-95)+1)\n",
    "        states_y_list = np.linspace(0, 618, num = (618-95)+1)\n",
    "        row_list = []\n",
    "        num = 1\n",
    "        for _ in states_y_list:\n",
    "            row = []\n",
    "            for _ in states_x_list:\n",
    "                row.append(num)\n",
    "                num += 1\n",
    "            row_list.append(row)\n",
    "        self.x = np.array(row_list, np.int32, order='F')\n",
    "\n",
    "    def map_pos_to_1D(self, pos):\n",
    "        min_x = 95\n",
    "        max_x = 1140\n",
    "        min_y = 95\n",
    "        max_y = 618\n",
    "        if pos[0] < min_x or pos[0] > max_x or pos[1] < min_y or pos[1] > max_y:\n",
    "            raise Exception(f\"The position [{pos[0]}, {pos[1]}] is out of bounds!\"\n",
    "                            f\" Please note the min pos is [{min_x}, {min_y}] and the max pos is [{max_x}, {max_y}].\")\n",
    "        return self.x[pos[1]-min_x, pos[0]-min_y]"
   ]
  },
  {
   "cell_type": "code",
   "execution_count": 4,
   "id": "859be593",
   "metadata": {},
   "outputs": [
    {
     "name": "stdout",
     "output_type": "stream",
     "text": [
      "1\n"
     ]
    }
   ],
   "source": [
    "# Testing mapping class\n",
    "\n",
    "mapper = MAPPER()\n",
    "pos = [95,95]\n",
    "mapped_pos = mapper.map_pos_to_1D(pos)\n",
    "print(mapped_pos)"
   ]
  },
  {
   "cell_type": "code",
   "execution_count": 5,
   "id": "d5731609",
   "metadata": {},
   "outputs": [],
   "source": [
    "def convert_to_hexstring(cue_s, obj_s_list, angle, power):\n",
    "    if len(obj_s_list) > 0:\n",
    "        obj_s_list.sort()\n",
    "        cue_s_hex =      hex(cue_s).lstrip(\"0x\")\n",
    "        obj_s_list_hex = [hex(obj_state).lstrip('0x') for obj_state in obj_s_list]\n",
    "        SA_pair =        f\"{cue_s_hex}|\"\n",
    "        for obj_s_hex in obj_s_list_hex:\n",
    "            SA_pair += obj_s_hex + \",\"\n",
    "        SA_pair = SA_pair.rstrip(\",\") + f\"|{angle}|{power}\"\n",
    "        return SA_pair"
   ]
  },
  {
   "cell_type": "code",
   "execution_count": 10,
   "id": "6c3358f2",
   "metadata": {},
   "outputs": [],
   "source": [
    "class Q_DICT:\n",
    "    def __init__(self):\n",
    "        mapper = MAPPER()\n",
    "        cue_s_start = mapper.map_pos_to_1D([95, 95])\n",
    "        obj_s_start = []\n",
    "        theta_start = 0.00\n",
    "        power_start = 0\n",
    "        reward = 0.00\n",
    "\n",
    "        self.Q_dict_pointer = None\n",
    "        self.Q_dict_list = [{} for _ in range(16)]\n",
    "        for i, q_dict in enumerate(self.Q_dict_list):\n",
    "            setattr(self, f'Q_dict_{i}', q_dict)\n",
    "        \n",
    "        for _ in range(16):\n",
    "            SA_string =convert_to_hexstring(cue_s_start, obj_s_start, theta_start, power_start)\n",
    "            self.Q_dict_pointer = {SA_string: reward}\n",
    "            self.Q_dict_list[len(obj_s_start)] = self.Q_dict_pointer\n",
    "            obj_s_start.append(mapper.map_pos_to_1D([95, 95]))\n",
    "            #print(self.Q_dict_list)\n",
    "\n",
    "    # TODO: Should I still use this?\n",
    "    def get_q_dict(self, obj_s):\n",
    "        return self.Q_dict_list[len(obj_s)]\n",
    "        #return self.Q_dict_pointer\n",
    "    \n",
    "#max_power = 20000\n",
    "#powers = np.linspace(0, max_power, num = 41) # List from 0 to max_power, with powers_disc numbers\n",
    "#print(powers)"
   ]
  },
  {
   "cell_type": "code",
   "execution_count": 11,
   "metadata": {},
   "outputs": [
    {
     "name": "stdout",
     "output_type": "stream",
     "text": [
      "Decimal String:\n",
      "cue_s: 1, obj_states: [1], angle: 0.0, power: 0\n",
      "\n",
      "Decimal String:\n",
      "cue_s: 1, obj_states: [1, 1], angle: 0.0, power: 0\n",
      "\n",
      "Decimal String:\n",
      "cue_s: 1, obj_states: [1, 1, 1], angle: 0.0, power: 0\n",
      "\n",
      "Decimal String:\n",
      "cue_s: 1, obj_states: [1, 1, 1, 1], angle: 0.0, power: 0\n",
      "\n",
      "Decimal String:\n",
      "cue_s: 1, obj_states: [1, 1, 1, 1, 1], angle: 0.0, power: 0\n",
      "\n",
      "Decimal String:\n",
      "cue_s: 1, obj_states: [1, 1, 1, 1, 1, 1], angle: 0.0, power: 0\n",
      "\n",
      "Decimal String:\n",
      "cue_s: 1, obj_states: [1, 1, 1, 1, 1, 1, 1], angle: 0.0, power: 0\n",
      "\n",
      "Decimal String:\n",
      "cue_s: 1, obj_states: [1, 1, 1, 1, 1, 1, 1, 1], angle: 0.0, power: 0\n",
      "\n",
      "Decimal String:\n",
      "cue_s: 1, obj_states: [1, 1, 1, 1, 1, 1, 1, 1, 1], angle: 0.0, power: 0\n",
      "\n",
      "Decimal String:\n",
      "cue_s: 1, obj_states: [1, 1, 1, 1, 1, 1, 1, 1, 1, 1], angle: 0.0, power: 0\n",
      "\n",
      "Decimal String:\n",
      "cue_s: 1, obj_states: [1, 1, 1, 1, 1, 1, 1, 1, 1, 1, 1], angle: 0.0, power: 0\n",
      "\n",
      "Decimal String:\n",
      "cue_s: 1, obj_states: [1, 1, 1, 1, 1, 1, 1, 1, 1, 1, 1, 1], angle: 0.0, power: 0\n",
      "\n",
      "Decimal String:\n",
      "cue_s: 1, obj_states: [1, 1, 1, 1, 1, 1, 1, 1, 1, 1, 1, 1, 1], angle: 0.0, power: 0\n",
      "\n",
      "Decimal String:\n",
      "cue_s: 1, obj_states: [1, 1, 1, 1, 1, 1, 1, 1, 1, 1, 1, 1, 1, 1], angle: 0.0, power: 0\n",
      "\n",
      "Decimal String:\n",
      "cue_s: 1, obj_states: [1, 1, 1, 1, 1, 1, 1, 1, 1, 1, 1, 1, 1, 1, 1], angle: 0.0, power: 0\n",
      "\n"
     ]
    }
   ],
   "source": [
    "Q = Q_DICT()\n",
    "\n",
    "for Q_dict in Q.Q_dict_list:\n",
    "    #print(Q_dict_list)\n",
    "    if None not in Q_dict.keys():\n",
    "        q_values = [key_val for key_val in Q_dict.keys()][0].split(\"|\")\n",
    "        #print(f\"Hexidecimal string:\\n{q_values}\")\n",
    "        #print(\"\")\n",
    "\n",
    "        # Convert hex to decimal\n",
    "        cue_s = int(q_values[0], 16)\n",
    "        obj_s_list = [int(obj_state, 16) for obj_state in q_values[1].split(\",\")]\n",
    "        angle = q_values[2]\n",
    "        power = q_values[3]\n",
    "        print(f\"Decimal String:\\ncue_s: {cue_s}, obj_states: {obj_s_list}, angle: {angle}, power: {power}\\n\")\n"
   ]
  },
  {
   "cell_type": "code",
   "execution_count": 1,
   "id": "6d5bb34b",
   "metadata": {},
   "outputs": [],
   "source": [
    "import numpy as np\n",
    "from tqdm import tqdm"
   ]
  },
  {
   "cell_type": "code",
   "execution_count": 677,
   "id": "530508ed",
   "metadata": {},
   "outputs": [],
   "source": [
    "class Q_DICT:\n",
    "    def __init__(self):\n",
    "        cueball_s_start=[0, 0]\n",
    "        objball_s_start=[0, 0]\n",
    "        angle_start=0.00\n",
    "        power_start=0\n",
    "        reward=0.00\n",
    "        self.Q_dict = {f'{cueball_s_start}, {objball_s_start}, {angle_start}, {power_start}': reward}\n",
    "\n",
    "    def update_q_dict(self, cue_state, target_state, angle, power, reward):\n",
    "        current_reward = self.get_q_val(cue_state, target_state, angle, power)\n",
    "        if current_reward is not None:\n",
    "            updated_reward = current_reward + reward\n",
    "        else:\n",
    "            updated_reward = reward       \n",
    "        self.Q_dict.update({f'{cue_state}, {target_state}, {angle}, {power}': updated_reward})     \n",
    "\n",
    "    def get_q_val(self, cue_state, target_state, angle, power):\n",
    "        state_action_pair = f'{cue_state}, {target_state}, {angle}, {power}'\n",
    "        if state_action_pair in self.Q_dict: \n",
    "            current_val = self.Q_dict[state_action_pair]\n",
    "        else:\n",
    "            current_val = None\n",
    "        return current_val"
   ]
  },
  {
   "cell_type": "markdown",
   "id": "94452ca3",
   "metadata": {},
   "source": [
    "# Initialize the Q-table as a Python dict"
   ]
  },
  {
   "cell_type": "markdown",
   "id": "2dfbf393",
   "metadata": {},
   "source": [
    "## a) Init full Action and State Space (Will take FOREVER)"
   ]
  },
  {
   "cell_type": "code",
   "execution_count": 58,
   "id": "6070dff9",
   "metadata": {},
   "outputs": [
    {
     "data": {
      "text/plain": [
       "'\\nQ = Q_DICT()\\n\\nQ.Q_dict = init_q_dict(x_disc=501, y_disc=501, angles_disc=361, powers_disc=5)\\n'"
      ]
     },
     "execution_count": 58,
     "metadata": {},
     "output_type": "execute_result"
    }
   ],
   "source": [
    "'''\n",
    "Q = Q_DICT()\n",
    "\n",
    "Q.Q_dict = init_q_dict(x_disc=501, y_disc=501, angles_disc=361, powers_disc=5)\n",
    "'''"
   ]
  },
  {
   "cell_type": "markdown",
   "id": "197fae27",
   "metadata": {},
   "source": [
    "## b) Initialize Q-table and update as we see states (faster, but may not have an action for an unseen state-action pair)"
   ]
  },
  {
   "cell_type": "code",
   "execution_count": 66,
   "id": "7e1c03bd",
   "metadata": {},
   "outputs": [
    {
     "name": "stdout",
     "output_type": "stream",
     "text": [
      "{'[0.0, 0.0], [0.0, 0.0], 0.0, 0.0': 0.0}\n"
     ]
    }
   ],
   "source": [
    "Q = Q_DICT()\n",
    "\n",
    "print(Q.Q_dict)"
   ]
  },
  {
   "cell_type": "code",
   "execution_count": 67,
   "id": "d98b2d28",
   "metadata": {},
   "outputs": [
    {
     "name": "stdout",
     "output_type": "stream",
     "text": [
      "{'[0.0, 0.0], [0.0, 0.0], 0.0, 0.0': 0.0, '[1.0, 0.0], [0.0, 1.0], 0.0, 0.0': 10.0}\n"
     ]
    }
   ],
   "source": [
    "cue_state = [1.0, 0.0]\n",
    "target_state = [0.0, 1.0]\n",
    "angle = 0.00\n",
    "power = 0.00\n",
    "reward = 10.00\n",
    "\n",
    "Q.update_q_dict(cue_state, target_state, angle, power, reward)\n",
    "\n",
    "print(Q.Q_dict)"
   ]
  },
  {
   "cell_type": "markdown",
   "id": "b5cfbb89",
   "metadata": {},
   "source": [
    "# Check Q-table (Q-dict) to see what the latest key is"
   ]
  },
  {
   "cell_type": "code",
   "execution_count": 68,
   "id": "f04ce876",
   "metadata": {},
   "outputs": [
    {
     "name": "stdout",
     "output_type": "stream",
     "text": [
      "[1.0, 0.0], [0.0, 1.0], 0.0, 0.0\n"
     ]
    }
   ],
   "source": [
    "print(list(Q.Q_dict)[-1])"
   ]
  },
  {
   "cell_type": "markdown",
   "id": "1f69b592",
   "metadata": {},
   "source": [
    "# Check to see what the Q-value is for a given key"
   ]
  },
  {
   "cell_type": "code",
   "execution_count": 69,
   "id": "7ebb7931",
   "metadata": {},
   "outputs": [
    {
     "name": "stdout",
     "output_type": "stream",
     "text": [
      "10.0\n"
     ]
    }
   ],
   "source": [
    "# Check what reward is for a specific state-action pair:\n",
    "cue_state = [1.00, 0.00]\n",
    "target_state = [0.00, 1.00]\n",
    "angle = 0.00\n",
    "power = 0.00\n",
    "\n",
    "q_val = Q.get_q_val(cue_state, target_state, angle, power)\n",
    "print(q_val)"
   ]
  },
  {
   "cell_type": "code",
   "execution_count": 1,
   "id": "8bb2bc7f",
   "metadata": {},
   "outputs": [
    {
     "name": "stdout",
     "output_type": "stream",
     "text": [
      "The Zen of Python, by Tim Peters\n",
      "\n",
      "Beautiful is better than ugly.\n",
      "Explicit is better than implicit.\n",
      "Simple is better than complex.\n",
      "Complex is better than complicated.\n",
      "Flat is better than nested.\n",
      "Sparse is better than dense.\n",
      "Readability counts.\n",
      "Special cases aren't special enough to break the rules.\n",
      "Although practicality beats purity.\n",
      "Errors should never pass silently.\n",
      "Unless explicitly silenced.\n",
      "In the face of ambiguity, refuse the temptation to guess.\n",
      "There should be one-- and preferably only one --obvious way to do it.\n",
      "Although that way may not be obvious at first unless you're Dutch.\n",
      "Now is better than never.\n",
      "Although never is often better than *right* now.\n",
      "If the implementation is hard to explain, it's a bad idea.\n",
      "If the implementation is easy to explain, it may be a good idea.\n",
      "Namespaces are one honking great idea -- let's do more of those!\n"
     ]
    }
   ],
   "source": [
    "import this"
   ]
  }
 ],
 "metadata": {
  "@webio": {
   "lastCommId": null,
   "lastKernelId": null
  },
  "kernelspec": {
   "display_name": "Python 3 (ipykernel)",
   "language": "python",
   "name": "python3"
  },
  "language_info": {
   "codemirror_mode": {
    "name": "ipython",
    "version": 3
   },
   "file_extension": ".py",
   "mimetype": "text/x-python",
   "name": "python",
   "nbconvert_exporter": "python",
   "pygments_lexer": "ipython3",
   "version": "3.9.12"
  }
 },
 "nbformat": 4,
 "nbformat_minor": 5
}
